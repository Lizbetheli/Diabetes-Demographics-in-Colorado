{
 "cells": [
  {
   "cell_type": "code",
   "execution_count": 2,
   "metadata": {},
   "outputs": [],
   "source": [
    "#format dictionary to clean up and present values appropriately\n",
    "format_dict = {\"Hospitalization_Census_Tract_Rate_per_100,000\": \"{:,.2f}\", \"Hospitlization_State_Rate_per_100,000\": \"{:,.2f}\",\n",
    "               \"Adult_Pop_Over_18\": \"{:,}\", \"Census_Tract_Estimate\": \"{:,.1f}%\", \"Pop_Total\": \"{:,}\", \n",
    "               \"Pop_Density/Sq_Mile\": \"{:,.1f}\", \"Percent_Poverty\": \"{:,.1f}%\", \"Median_Household_Income\": \"${:20,.2f}\",\n",
    "               \"Poverty_Mean_Household_Income\": \"${:20,.2f}\", \"Per_Capita_Income\": \"${:20,.2f}\", \"LILATracts_1And10\": \"{:,}\",\n",
    "               \"LILATracts_halfAnd10\": \"{:,}\", \"LILATracts_1And20\":\"{:,}\",\"LILATracts_Vehicle\":\"{:,}\", \n",
    "               \"Urban\":\"{:,}\", \"Rural\": \"{:,}\", \"Low_Income_Tract\":\"{:,}\", \n",
    "               \"Percent_Education_Population_AgeOver24_LessThan9th\": \"{:,.1f}%\", \n",
    "               \"Percent_Education_Population_AgeOver24_NoHSDiploma\": \"{:,.1f}%\",\n",
    "               \"Percent_Education_Population_AgeOver24_HSD_Higher\": \"{:,.1f}%\",\n",
    "               \"Percent_Education_Population_AgeOver24_Bachelors_Higher\":\"{:,.1f}%\"}"
   ]
  },
  {
   "cell_type": "code",
   "execution_count": null,
   "metadata": {},
   "outputs": [],
   "source": []
  }
 ],
 "metadata": {
  "kernelspec": {
   "display_name": "Python 3",
   "language": "python",
   "name": "python3"
  },
  "language_info": {
   "codemirror_mode": {
    "name": "ipython",
    "version": 3
   },
   "file_extension": ".py",
   "mimetype": "text/x-python",
   "name": "python",
   "nbconvert_exporter": "python",
   "pygments_lexer": "ipython3",
   "version": "3.7.6"
  }
 },
 "nbformat": 4,
 "nbformat_minor": 4
}
