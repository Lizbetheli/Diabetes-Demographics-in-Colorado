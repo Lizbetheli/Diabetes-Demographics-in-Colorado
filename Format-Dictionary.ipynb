{
 "cells": [
  {
   "cell_type": "code",
   "execution_count": null,
   "metadata": {},
   "outputs": [],
   "source": [
    "\n",
    "\n",
    "# basic bar graph figure \n",
    "\n",
    "plt.figure(figsize=(10,7))\n",
    "plt.bar(x-value, y-value, width=0.5,color='lightblue')\n",
    "plt.xticks(tick_marks,rotation=45)\n",
    "\n"
   ]
  },
  {
   "cell_type": "code",
   "execution_count": null,
   "metadata": {},
   "outputs": [],
   "source": [
    "#scatter plot \n",
    "\n",
    "plt.scatter(\n",
    "    x_value,\n",
    "    y_value,\n",
    "    marker='o',\n",
    "    facecolors='lightblue',\n",
    "    edgecolors='black'\n",
    "            )\n",
    "#regression line in yellow \n",
    "plt.plot(x_value,regress_values,'y-')\n"
   ]
  },
  {
   "cell_type": "code",
   "execution_count": null,
   "metadata": {},
   "outputs": [],
   "source": [
    "#basic line plot \n",
    "\n",
    "\n",
    "plt.plot(x-value,y-value,marker='o',color='lightblue')"
   ]
  }
 ],
 "metadata": {
  "kernelspec": {
   "display_name": "Python 3",
   "language": "python",
   "name": "python3"
  },
  "language_info": {
   "codemirror_mode": {
    "name": "ipython",
    "version": 3
   },
   "file_extension": ".py",
   "mimetype": "text/x-python",
   "name": "python",
   "nbconvert_exporter": "python",
   "pygments_lexer": "ipython3",
   "version": "3.7.6"
  }
 },
 "nbformat": 4,
 "nbformat_minor": 4
}
