{
 "cells": [
  {
   "cell_type": "code",
   "execution_count": 19,
   "metadata": {},
   "outputs": [
    {
     "name": "stdout",
     "output_type": "stream",
     "text": [
      "                                                                                                                                                                                                                                                                                                                                                                                                                                                                                                                                                                                                                                                                                                                                                                                                                                                                                                                                                                                                                                                                                                                                                                                                                                                                                                                                                                                                                                                                                                                                                                                                                                                                                  <<<<<<< HEAD\n",
      "NaN OBJECTID_x FIPS       TRACT_NAME                                   COUNTY_NAME DIABETES_ADJRATE DIABETES_L95CI DIABETES_U95CI DIABETES_STATEADJRATE DIABETES_SL95CI DIABETES_SU95CI DIABETES_DISPLAY                 OBJECTID_y Census_Tract_Name                            County_Name Adult_Population_Age18_and_over Health_Statistics_Region Diabetes_Census_Tract_Estimate Diabetes_Estimate_Confidence_Interval Diabetes_Map_Symbol_withinHSR Diabetes_County_Regional_Estimate                  Diabetes_Map_Symbol_State Diabetes_State_Estimate                   OBJECTID Tract_Name                                   Tract_FIPS County_x Population_Total Population_Density_PerLandSquareMile Percent_Poverty_AllPeople_Income_Below_Pov_Level Poverty_Median_Household_Income Poverty_Mean_Household_Income Poverty_Per_Capita_Income OBJECTID_1 State County_y LILATracts_1And10 LILATracts_halfAnd10 LILATracts_1And20 LILATracts_Vehicle Urban Rural LA1and10 LAhalfand10 LA1and20 LATracts_half LATracts1 LATracts10 LATracts20 LATractsVehicle_20 HUNVFlag GroupQuartersFlag OHU2010 NUMGQTRS PCTGQTRS  LowIncomeTracts POP2010 UATYP10 lapophalf          lapophalfshare    lalowihalf  lalowihalfshare    lakidshalf         lakidshalfshare laseniorshalf      laseniorshalfshare lahunvhalf         lahunvhalfshare    lapop1             lapop1share lalowi1           lalowi1share       lakids1           lakids1share       laseniors1         laseniors1share    lahunv1            lahunv1share       lapop20     lapop20share       lalowi20    lalowi20share       lakids20    lakids20share     laseniors20 laseniors20share   lahunv20     lahunv20share\n",
      "0   1          8043979000 Census Tract 9790, Fremont County, Colorado  FREMONT     716.97           569.52         864.42         1267.78               1263.64         1271.91         Lower Than State Average         1          Census Tract 9790, Fremont County, Colorado  Fremont     2994                            13                       10.0                           95% C.I.: 9.2 - 11                    Fourth Quintile               County/Regional Estimate 9.2% (95% C.I.: 6.9 - ... Highest Quintile          State Estimate 7.0% (95% C.I.: 6.8 - 7.3) 1        Census Tract 9790, Fremont County, Colorado  8043979000 FREMONT  3471             3.4                                  9.7                                              49483.0                         61677.0                       29749                     1          CO    Fremont  1                 1                    0                 0                  0     1     1        1           0        1             1         1          0          0                  0        0                 1649    0.0      0.0       1               3462    R       3462.000015        100.0000004       1027.033838 29.665910999999998 460.0000009        100.0000002     849.0000029999999  100.0000004        22.021600399999997 1.3354518          3462.000015        100.0000004 1027.033838       29.665910999999998 460.0000009       100.0000002        849.0000029999999  100.0000004        22.021600399999997 1.3354518          171.0728523 4.9414457999999994 48.53471354 1.4019270000000001  25.98258965 5.648389099999999 42.21517165 4.9723406          0.0                    0.0\n",
      "1   2          8045951600 Census Tract 9516, Garfield County, Colorado GARFIELD    602.99           495.07         710.91         1267.78               1263.64         1271.91         Lower Than State Average         2          Census Tract 9516, Garfield County, Colorado Garfield    2800                            12                       5.0                            95% C.I.: 4.5 - 5.7                   Fourth Quintile               County/Regional Estimate 5.1% (95% C.I.: 3 - 7.3)  Second Quintile           State Estimate 7.0% (95% C.I.: 6.8 - 7.3) 2        Census Tract 9516, Garfield County, Colorado 8045951600 GARFIELD 3656             6.4                                  14.5                                             59154.0                         82512.0                       32362                     2          CO    Garfield 0                 0                    0                 0                  0     1     0        0           0        1             1         0          0          0                  0        0                 1425    6.0      0.0015337 0               3912    R       3722.6409740000004 95.15953409999999 723.9726764 18.506459          997.3040241        97.583564       280.22566739999996 92.4837186         27.13832204        1.9044436999999999 3635.8576329999996 92.941146   715.2333921000001 18.2830622         980.6032991000001 95.94944220000001  268.50096030000003 88.61417829999999  23.90085488        1.6772529999999999 13.20827418 0.3376348          1.711024451 0.04373780000000001 1.39034462  0.1360415         1.39034462  0.4588596          0.0                    0.0\n",
      "2   3          8069002803 Census Tract 28.03, Larimer County, Colorado LARIMER     0.0              0.0            0.0            1267.78               1263.64         1271.91         No Events or Data Suppressed     3          Census Tract 28.03, Larimer County, Colorado Larimer     97                              2                        1.6                            95% C.I.: 1.5 - 1.7                   Lowest Quintile               County/Regional Estimate 5.1% (95% C.I.: 4.2 - ... Lowest Quintile           State Estimate 7.0% (95% C.I.: 6.8 - 7.3) 3        Census Tract 28.03, Larimer County, Colorado 8069002803 LARIMER  97               0.4                                  38.1                                             43882.0                         41385.0                       27278                     3          CO    Larimer  0                 0                    0                 0                  0     1     0        0           0        1             1         0          0          0                  0        0                 47      0.0      0.0       0               92      R       91.9999987         99.9999986        0.0         0.0                18.99999975        99.9999987      6.000000056        100.0000009        0.0                0.0                77.40769321        84.138797   0.0               0.0                17.69968278       93.15622509999999  5.993884508        99.8980751         0.0                0.0                0.0         0.0                0.0         0.0                 0.0         0.0               0.0         0.0                0.0                    0.0\n",
      "3   4          8125963200 Census Tract 9632, Yuma County, Colorado     YUMA        1390.98          1268.46        1513.5         1267.78               1263.64         1271.91         Not Different Than State Average 4          Census Tract 9632, Yuma County, Colorado     Yuma        4381                            1                        8.0                            95% C.I.: 6.5 - 10.3                  Lowest Quintile               County/Regional Estimate 8.4% (95% C.I.: 4.3 - ... Fourth Quintile           State Estimate 7.0% (95% C.I.: 6.8 - 7.3) 4        Census Tract 9632, Yuma County, Colorado     8125963200 YUMA     5467             5.3                                  13.4                                             44315.0                         53229.0                       24196                     4          CO    Yuma     1                 1                    0                 0                  0     1     1        1           0        1             1         1          0          0                  0        0                 2153    51.0     0.0093733 1               5441    R       3977.572063        73.1036953        1368.761946 25.1564408         1062.0414779999999 73.650588       649.5923024        72.41831690000001  72.93163984        3.3874426          2042.226141        37.5340221  550.9699557       10.1262627         506.6588075       35.135839600000004 337.9593992        37.676633100000004 23.579740100000002 1.0952038999999998 490.0273591 9.006200300000001  152.5492989 2.8036997           98.80863004 6.852193499999999 100.3628848 11.188727400000001 3.623084079      0.1682807\n"
     ]
    }
   ],
   "source": [
    "#initial steps/setup\n",
    "\n",
    "import pandas as pd\n",
    "import numpy as np\n",
    "import requests\n",
    "import os\n",
    "import csv\n",
    "import matplotlib.pyplot as plt\n",
    "import pandas as pd\n",
    "import scipy.stats as st\n",
    "\n",
    "#csv path\n",
    "cleaned_data_path = \"Resources/merged.csv\"\n",
    "df_clean=pd.read_csv(cleaned_data_path)\n",
    "\n",
    "#preview of dataset\n",
    "print(df_clean.head())"
   ]
  },
  {
   "cell_type": "code",
   "execution_count": 14,
   "metadata": {
    "scrolled": true
   },
   "outputs": [
    {
     "data": {
      "text/plain": [
       "2460"
      ]
     },
     "execution_count": 14,
     "metadata": {},
     "output_type": "execute_result"
    }
   ],
   "source": [
    "#count number of rows/entries in cleaned dataframe for summary purposes\n",
    "len(df_clean)"
   ]
  },
  {
   "cell_type": "code",
   "execution_count": 21,
   "metadata": {},
   "outputs": [
    {
     "ename": "ValueError",
     "evalue": "No axis named County for object type <class 'pandas.core.frame.DataFrame'>",
     "output_type": "error",
     "traceback": [
      "\u001b[1;31m---------------------------------------------------------------------------\u001b[0m",
      "\u001b[1;31mValueError\u001b[0m                                Traceback (most recent call last)",
      "\u001b[1;32m<ipython-input-21-1b1b1ec99e1e>\u001b[0m in \u001b[0;36m<module>\u001b[1;34m\u001b[0m\n\u001b[0;32m      1\u001b[0m \u001b[1;31m#Categorize by county column\u001b[0m\u001b[1;33m\u001b[0m\u001b[1;33m\u001b[0m\u001b[1;33m\u001b[0m\u001b[0m\n\u001b[1;32m----> 2\u001b[1;33m \u001b[0mdf_clean\u001b[0m\u001b[1;33m.\u001b[0m\u001b[0mloc\u001b[0m\u001b[1;33m(\u001b[0m\u001b[1;34m\"County\"\u001b[0m\u001b[1;33m)\u001b[0m\u001b[1;33m\u001b[0m\u001b[1;33m\u001b[0m\u001b[0m\n\u001b[0m",
      "\u001b[1;32m~\\anaconda3\\lib\\site-packages\\pandas\\core\\indexing.py\u001b[0m in \u001b[0;36m__call__\u001b[1;34m(self, axis)\u001b[0m\n\u001b[0;32m    575\u001b[0m \u001b[1;33m\u001b[0m\u001b[0m\n\u001b[0;32m    576\u001b[0m         \u001b[1;32mif\u001b[0m \u001b[0maxis\u001b[0m \u001b[1;32mis\u001b[0m \u001b[1;32mnot\u001b[0m \u001b[1;32mNone\u001b[0m\u001b[1;33m:\u001b[0m\u001b[1;33m\u001b[0m\u001b[1;33m\u001b[0m\u001b[0m\n\u001b[1;32m--> 577\u001b[1;33m             \u001b[0maxis\u001b[0m \u001b[1;33m=\u001b[0m \u001b[0mself\u001b[0m\u001b[1;33m.\u001b[0m\u001b[0mobj\u001b[0m\u001b[1;33m.\u001b[0m\u001b[0m_get_axis_number\u001b[0m\u001b[1;33m(\u001b[0m\u001b[0maxis\u001b[0m\u001b[1;33m)\u001b[0m\u001b[1;33m\u001b[0m\u001b[1;33m\u001b[0m\u001b[0m\n\u001b[0m\u001b[0;32m    578\u001b[0m         \u001b[0mnew_self\u001b[0m\u001b[1;33m.\u001b[0m\u001b[0maxis\u001b[0m \u001b[1;33m=\u001b[0m \u001b[0maxis\u001b[0m\u001b[1;33m\u001b[0m\u001b[1;33m\u001b[0m\u001b[0m\n\u001b[0;32m    579\u001b[0m         \u001b[1;32mreturn\u001b[0m \u001b[0mnew_self\u001b[0m\u001b[1;33m\u001b[0m\u001b[1;33m\u001b[0m\u001b[0m\n",
      "\u001b[1;32m~\\anaconda3\\lib\\site-packages\\pandas\\core\\generic.py\u001b[0m in \u001b[0;36m_get_axis_number\u001b[1;34m(cls, axis)\u001b[0m\n\u001b[0;32m    405\u001b[0m             \u001b[1;32mexcept\u001b[0m \u001b[0mKeyError\u001b[0m\u001b[1;33m:\u001b[0m\u001b[1;33m\u001b[0m\u001b[1;33m\u001b[0m\u001b[0m\n\u001b[0;32m    406\u001b[0m                 \u001b[1;32mpass\u001b[0m\u001b[1;33m\u001b[0m\u001b[1;33m\u001b[0m\u001b[0m\n\u001b[1;32m--> 407\u001b[1;33m         \u001b[1;32mraise\u001b[0m \u001b[0mValueError\u001b[0m\u001b[1;33m(\u001b[0m\u001b[1;34mf\"No axis named {axis} for object type {cls}\"\u001b[0m\u001b[1;33m)\u001b[0m\u001b[1;33m\u001b[0m\u001b[1;33m\u001b[0m\u001b[0m\n\u001b[0m\u001b[0;32m    408\u001b[0m \u001b[1;33m\u001b[0m\u001b[0m\n\u001b[0;32m    409\u001b[0m     \u001b[1;33m@\u001b[0m\u001b[0mclassmethod\u001b[0m\u001b[1;33m\u001b[0m\u001b[1;33m\u001b[0m\u001b[0m\n",
      "\u001b[1;31mValueError\u001b[0m: No axis named County for object type <class 'pandas.core.frame.DataFrame'>"
     ]
    }
   ],
   "source": [
    "#Categorize by county column\n"
   ]
  },
  {
   "cell_type": "code",
   "execution_count": null,
   "metadata": {},
   "outputs": [],
   "source": [
    "#Get the mean household income per county \n",
    "\n",
    "\n",
    "\n",
    "\n",
    "\n",
    "\n",
    "#Get the mean hospitalizations per 100k per county\n",
    "\n",
    "\n",
    "\n",
    "\n",
    "\n",
    "\n",
    "#Get correlations betwee"
   ]
  }
 ],
 "metadata": {
  "kernelspec": {
   "display_name": "Python 3",
   "language": "python",
   "name": "python3"
  },
  "language_info": {
   "codemirror_mode": {
    "name": "ipython",
    "version": 3
   },
   "file_extension": ".py",
   "mimetype": "text/x-python",
   "name": "python",
   "nbconvert_exporter": "python",
   "pygments_lexer": "ipython3",
   "version": "3.7.6"
  }
 },
 "nbformat": 4,
 "nbformat_minor": 4
}
