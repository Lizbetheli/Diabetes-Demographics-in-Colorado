{
 "cells": [
  {
   "cell_type": "code",
   "execution_count": 62,
   "metadata": {},
   "outputs": [],
   "source": [
    "import matplotlib.pyplot as plt\n",
    "import pandas as pd\n",
    "import numpy as np\n",
    "import requests\n",
    "import time\n",
    "from scipy.stats import linregress\n",
    "import json\n",
    "import pprint\n",
    "import csv\n",
    "import glob\n",
    "import os"
   ]
  },
  {
   "cell_type": "code",
   "execution_count": 63,
   "metadata": {},
   "outputs": [],
   "source": [
    "diab_hosp_pd = pd.read_csv('Resources/hospitalization.csv') #TRACT_FIPS\n",
    "diab_hosp_pd = diab_hosp_pd.rename(columns={\"TRACT_FIPS\": \"FIPS\"})\n",
    "diab_adults_pd = pd.read_csv('Resources/inadults.csv') #Census_Tract_FIPS\n",
    "diab_adults_pd = diab_adults_pd.rename(columns={\"Census_Tract_FIPS\": \"FIPS\"})\n",
    "diab_income_pd = pd.read_csv('Resources/income.csv') #FIPS\n",
    "diab_food_pd = pd.read_csv('Resources/foodenviro.csv') #FIPS\n",
    "\n",
    "\n",
    "merged_diabetes_df = pd.merge(diab_hosp_pd, diab_adults_pd, on = \"FIPS\")\n",
    "merged_diabetes_df = pd.merge(merged_diabetes_df, diab_income_pd, on = \"FIPS\")\n",
    "merged_diabetes_df = pd.merge(merged_diabetes_df, diab_food_pd, on = \"FIPS\")\n",
    "merged_diabetes_df = merged_diabetes_df.dropna()\n",
    "merged_diabetes_df.to_csv('Resources/merged.csv')"
   ]
  },
  {
   "cell_type": "code",
   "execution_count": 64,
   "metadata": {},
   "outputs": [
    {
     "name": "stdout",
     "output_type": "stream",
     "text": [
      "OBJECTID_x          264\n",
      "FIPS                264\n",
      "TRACT_NAME          264\n",
      "COUNTY_NAME         264\n",
      "DIABETES_ADJRATE    264\n",
      "                   ... \n",
      "lakids20share       264\n",
      "laseniors20         264\n",
      "laseniors20share    264\n",
      "lahunv20            264\n",
      "lahunv20share       264\n",
      "Length: 87, dtype: int64\n"
     ]
    }
   ],
   "source": [
    "merged_diabetes_rural = merged_diabetes_df[merged_diabetes_df[\"Rural\"]== 1]\n",
    "ct_rural_count = merged_diabetes_rural.count()\n",
    "print(ct_rural_count)"
   ]
  },
  {
   "cell_type": "code",
   "execution_count": 65,
   "metadata": {},
   "outputs": [
    {
     "name": "stdout",
     "output_type": "stream",
     "text": [
      "OBJECTID_x          964\n",
      "FIPS                964\n",
      "TRACT_NAME          964\n",
      "COUNTY_NAME         964\n",
      "DIABETES_ADJRATE    964\n",
      "                   ... \n",
      "lakids20share       964\n",
      "laseniors20         964\n",
      "laseniors20share    964\n",
      "lahunv20            964\n",
      "lahunv20share       964\n",
      "Length: 87, dtype: int64\n"
     ]
    }
   ],
   "source": [
    "merged_diabetes_urban = merged_diabetes_df[merged_diabetes_df[\"Urban\"]== 1]\n",
    "ct_urban_count = merged_diabetes_urban.count()\n",
    "print(ct_urban_count)"
   ]
  },
  {
   "cell_type": "code",
   "execution_count": null,
   "metadata": {},
   "outputs": [],
   "source": []
  }
 ],
 "metadata": {
  "kernelspec": {
   "display_name": "Python 3",
   "language": "python",
   "name": "python3"
  },
  "language_info": {
   "codemirror_mode": {
    "name": "ipython",
    "version": 3
   },
   "file_extension": ".py",
   "mimetype": "text/x-python",
   "name": "python",
   "nbconvert_exporter": "python",
   "pygments_lexer": "ipython3",
   "version": "3.7.6"
  }
 },
 "nbformat": 4,
 "nbformat_minor": 4
}
