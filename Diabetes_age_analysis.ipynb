{
 "cells": [
  {
   "cell_type": "code",
   "execution_count": null,
   "metadata": {},
   "outputs": [],
   "source": [
    "import pandas as pd\n",
    "import numpy as np\n",
    "import requests \n",
    "import os\n",
    "import csv\n",
    "import json as jsn\n",
    "from pprint import pprint\n",
    "from scipy import stats\n",
    "from scipy.stats import linregress\n",
    "from matplotlib import pyplot as plt"
   ]
  },
  {
   "cell_type": "code",
   "execution_count": null,
   "metadata": {},
   "outputs": [],
   "source": [
    "# File to Load, read, store\n",
    "narrowed_data_to_load = \"Resources/narrowed.csv\"\n",
    "narrowed_data = pd.read_csv(narrowed_data_to_load)\n",
    "merged_data_to_load = \"Resources/merged.csv\"\n",
    "merged_data = pd.read_csv(merged_data_to_load)\n",
    "income_data_to_load = \"Resources/merged.csv\"\n",
    "income_data = pd.read_csv(income_data_to_load)"
   ]
  },
  {
   "cell_type": "code",
   "execution_count": null,
   "metadata": {},
   "outputs": [],
   "source": [
    "# narrowed_data.head()\n",
    "income_data.head()"
   ]
  },
  {
   "cell_type": "code",
   "execution_count": null,
   "metadata": {},
   "outputs": [],
   "source": [
    "avg_rate = narrowed_data[\"Census_Tract_Estimate\"].mean()\n",
    "print(f\"The estimated average diabetes diagnosis rate for adults in census tracts is: {avg_rate}.\")\n"
   ]
  },
  {
   "cell_type": "code",
   "execution_count": null,
   "metadata": {},
   "outputs": [],
   "source": [
    "# plt.scatter(\n",
    "#     x_value,\n",
    "#     y_value,\n",
    "#     marker='o',\n",
    "#     facecolors='lightblue',\n",
    "#     edgecolors='black'\n",
    "#             )\n",
    "# #regression line in yellow \n",
    "# plt.plot(x_value,regress_values,'y-')"
   ]
  },
  {
   "cell_type": "code",
   "execution_count": null,
   "metadata": {},
   "outputs": [],
   "source": [
    "adult_over_18= narrowed_data[\"Adult_Pop_Over_18\"].mean()\n",
    "# print(f\"The average diabetes rate for highinc census tracts is: {Adult_Pop_Over_18}.\")\n",
    "# pop_total=\n",
    "# county=\n",
    "# diabetes_adj_rate=\n",
    "# diabetes_state_rate=\n",
    "# narrowed_diab_highinc = narrowed_diab_df[narrowed_diab_df[\"Low_Income_Tract\"]== 0]\n",
    "# ct_highinc_count = narrowed_diab_highinc[\"County\"].count()\n",
    "# print(f\"There are {ct_highinc_count} Colorado census tracts designated as highinc.\")\n",
    "# ct_highinc_sum = narrowed_diab_highinc[\"Pop_Total\"].sum()\n",
    "# print(f\"There are {ct_highinc_sum} people living in highinc census tracts in Colorado.\")\n",
    "# ct_highinc_per_cap = narrowed_diab_highinc[\"Per_Capita_Income\"].mean()\n",
    "# print(f\"The average per capita income is {ct_highinc_per_cap} for these census tracts.\")\n",
    "# avg_diab_highinc = narrowed_diab_highinc[\"Census_Tract_Estimate\"].mean()\n",
    "# print(f\"The average diabetes rate for highinc census tracts is: {avg_diab_highinc}.\")\n",
    "# avg_hosp_highinc = narrowed_diab_highinc[\"Hospitalization_Census_Tract_Rate_per_100,000\"].mean()"
   ]
  },
  {
   "cell_type": "code",
   "execution_count": null,
   "metadata": {},
   "outputs": [],
   "source": [
    "total_pop = narrowed_data[\"Pop_Total\"]\n",
    "diab_rate = narrowed_data[\"Census_Tract_Estimate\"]\n",
    "plt.scatter(total_pop,diab_rate, marker=\"o\", facecolors=\"blue\", edgecolors=\"black\")\n",
    "plt.title(\"Population vs. Estimate Diabetes Rates (%)\")\n",
    "plt.xlabel(\"Population\")\n",
    "plt.ylabel(\"Estimated Diabetes Rates (%)\")\n",
    "plt.show()"
   ]
  },
  {
   "cell_type": "code",
   "execution_count": null,
   "metadata": {},
   "outputs": [],
   "source": [
    "# la_people_1=merged_data[\"lapop1\"]\n",
    "# la_children_1=merged_data[\"lakids1\"]\n",
    "# la_seniors_1=merged_data[\"laseniors1\"]\n",
    "# county=merged_data[\"COUNTY_NAME\"]\n",
    "# x_value,=la_people_1\n",
    "# y_value,=la_children_1\n",
    "# marker='o',\n",
    "# facecolors='lightblue',\n",
    "# plt.plot(x-value,y-value,marker='o',color='lightblue')\n",
    "# plt.show()"
   ]
  },
  {
   "cell_type": "code",
   "execution_count": null,
   "metadata": {},
   "outputs": [],
   "source": []
  },
  {
   "cell_type": "code",
   "execution_count": null,
   "metadata": {},
   "outputs": [],
   "source": []
  },
  {
   "cell_type": "code",
   "execution_count": null,
   "metadata": {},
   "outputs": [],
   "source": [
    "# x_values = narrowed_diab_rural['LILATracts_halfAnd10']\n",
    "# y_values = narrowed_diab_rural['Census_Tract_Estimate']\n",
    "# (slope, intercept, rvalue, pvalue, stderr) = st.linregress(x_values, y_values)\n",
    "# regress_values = x_values * slope + intercept\n",
    "# line_eq = \"y = \" + str(round(slope,2)) + \"x + \" + str(round(intercept,2))\n",
    "# plt.scatter(x_values,y_values)\n",
    "# plt.plot(x_values,regress_values,\"r-\")\n",
    "# plt.annotate(line_eq,(6,10),fontsize=15,color=\"red\")\n",
    "# plt.xlabel('LILATracts_halfAnd10')\n",
    "# plt.ylabel('Census_Tract_Estimate')\n",
    "# plt.title('LILATracts_half by Census_Tract_Estimate')\n",
    "# correlation = st.pearsonr(x_values, y_values)\n",
    "# print(f\"The correlation between both factors is {round(correlation[0],2)}\")\n",
    "# plt.show()"
   ]
  },
  {
   "cell_type": "code",
   "execution_count": null,
   "metadata": {},
   "outputs": [],
   "source": [
    "# print(narrowed_data.dtypes)\n",
    "print(income_data.dtypes)\n",
    "# merged_data.options.display.max_columns = None\n",
    "# print(merged_data.columns.values)\n",
    "# print(merged_data.columns.tolist())\n",
    "# merged_data.feature_names"
   ]
  },
  {
   "cell_type": "code",
   "execution_count": null,
   "metadata": {},
   "outputs": [],
   "source": [
    "x_values = merged_data[\"lapop1\"]\n",
    "y_values = merged_data[\"lakids1\"]\n",
    "(slope, intercept, rvalue, pvalue, stderr) = st.linregress(x_values, y_values)\n",
    "regress_values = x_values * slope + intercept\n",
    "line_eq = \"y = \" + str(round(slope,2)) + \"x + \" + str(round(intercept,2))\n",
    "plt.scatter(x_values,y_values)\n",
    "plt.plot(x_values,regress_values,\"r-\")\n",
    "plt.annotate(line_eq,(6,10),fontsize=15,color=\"red\")\n",
    "plt.xlabel('lapop1')\n",
    "plt.ylabel('lakids1')\n",
    "plt.title('Low access people vs. low access kids')\n",
    "correlation = st.pearsonr(x_values, y_values)\n",
    "print(f\"The correlation between both factors is {round(correlation[0],2)}\")\n",
    "plt.show()"
   ]
  },
  {
   "cell_type": "code",
   "execution_count": null,
   "metadata": {},
   "outputs": [],
   "source": [
    "# # Plot the world average as a line chart\n",
    "# la_people, = plt.plot(years, average_unemployment, color=\"blue\", label=\"World Average\" )\n",
    "\n",
    "# # Plot the unemployment values for a single country\n",
    "# country_one, = plt.plot(years, combined_unemployed_data.loc['USA',[\"2010\",\"2011\",\"2012\",\"2013\",\"2014\"]], \n",
    "#                         color=\"green\",label=combined_unemployed_data.loc['USA',\"Country Name\"])\n",
    "\n",
    "# # Create a legend for our chart\n",
    "# plt.legend(handles=[world_avg, country_one], loc=\"best\")\n",
    "\n",
    "# # Show the chart\n",
    "# plt.show()"
   ]
  },
  {
   "cell_type": "code",
   "execution_count": null,
   "metadata": {},
   "outputs": [],
   "source": [
    "merged_data.head()"
   ]
  },
  {
   "cell_type": "code",
   "execution_count": null,
   "metadata": {},
   "outputs": [],
   "source": []
  },
  {
   "cell_type": "markdown",
   "metadata": {},
   "source": [
    "interest variables: population total, diabetes state estimate,adult population 18 and over, diabetes adjrate\n",
    "\n",
    "search for lakidshalf,lakidshalfshare,laseniorhalf,laseniorshare,lakids1,laseniors1\n",
    "\n",
    "Population data, including age, race, Hispanic ethnicity, and residence in group quarters, are from the 2010 Census of the Population and downloaded at the census-block level before being allocated to ½-kilometer-square grid cells. Urban or rural designation was also provided by the 2010 Census at the block level. Data on income, vehicle availability, and SNAP participation are from the 2010-14 American Community Survey and were downloaded at the block-group level (income and vehicle availability) and tract level (SNAP participation) for assignment to ½-kilometer-square grid cells.\n",
    "\n",
    "Two 2015 lists of supermarkets, supercenters, and large grocery stores were combined to produce a comprehensive list of stores that represent sources of affordable and nutritious food. One store list contains stores authorized to receive SNAP benefits. The second list is from Trade Dimensions TDLinx (a Nielsen company), a proprietary source of individual supermarket store listings. Details on these data sources can be found in the report, Low-Income and Low-Supermarket-Access Census Tracts, 2010-2015.\n",
    "\n",
    "Total child population\n",
    "Definition: Number of individuals who are age 0-17 living in a tract.\n",
    "\n",
    "Data sources: Data on the number of children age 0-17 are from the 2010 Census of Population and Housing tract-level counts.\n",
    "\n",
    "Total senior population\n",
    "Definition: Number of individuals who are age 65 or older living in a tract.\n",
    "\n",
    "Data sources: Data on the number of seniors age 65 or older are from the 2010 Census of Population and Housing tract-level counts.\n"
   ]
  }
 ],
 "metadata": {
  "kernelspec": {
   "display_name": "Python 3",
   "language": "python",
   "name": "python3"
  },
  "language_info": {
   "codemirror_mode": {
    "name": "ipython",
    "version": 3
   },
   "file_extension": ".py",
   "mimetype": "text/x-python",
   "name": "python",
   "nbconvert_exporter": "python",
   "pygments_lexer": "ipython3",
   "version": "3.7.6"
  }
 },
 "nbformat": 4,
 "nbformat_minor": 4
}
